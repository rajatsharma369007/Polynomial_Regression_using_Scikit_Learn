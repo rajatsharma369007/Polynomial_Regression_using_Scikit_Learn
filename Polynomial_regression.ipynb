{
 "cells": [
  {
   "cell_type": "markdown",
   "metadata": {},
   "source": [
    "# Polynomial Regression using Scikit Learn"
   ]
  },
  {
   "cell_type": "markdown",
   "metadata": {},
   "source": [
    "In data.csv, we can see data generated for one predictor feature ('Var_X') and one outcome feature ('Var_Y'), following a non-linear trend. Use sklearn's PolynomialFeatures class to extend the predictor feature column into multiple columns with polynomial features."
   ]
  },
  {
   "cell_type": "markdown",
   "metadata": {},
   "source": [
    "### import libraries"
   ]
  },
  {
   "cell_type": "code",
   "execution_count": 1,
   "metadata": {},
   "outputs": [],
   "source": [
    "import pandas as pd\n",
    "import numpy as np\n",
    "from sklearn.linear_model import LinearRegression\n",
    "from sklearn.preprocessing import PolynomialFeatures"
   ]
  },
  {
   "cell_type": "markdown",
   "metadata": {},
   "source": [
    "### Load in the data\n",
    "\n",
    "    The data is in the file called 'data.csv'. Note that this data has a header line. Make sure that you've split out the data into the predictor feature in X and outcome feature in y. For X, make sure it is in a 2-d array of 20 rows by 1 column. You might need to use NumPy's reshape function to accomplish this.\n"
   ]
  },
  {
   "cell_type": "code",
   "execution_count": 8,
   "metadata": {},
   "outputs": [
    {
     "name": "stdout",
     "output_type": "stream",
     "text": [
      "0    -0.33532\n",
      "1     0.02160\n",
      "2    -1.19438\n",
      "3    -0.65046\n",
      "4    -0.28001\n",
      "5     1.93258\n",
      "6     1.22620\n",
      "7     0.74727\n",
      "8     3.32853\n",
      "9     2.87457\n",
      "10   -1.48662\n",
      "11    0.37629\n",
      "12    1.43918\n",
      "13    0.24183\n",
      "14   -2.79140\n",
      "15    1.08176\n",
      "16    2.81555\n",
      "17    0.54924\n",
      "18    2.36449\n",
      "19   -1.01925\n",
      "Name: Var_X, dtype: float64\n",
      "\n",
      "[[-0.33532]\n",
      " [ 0.0216 ]\n",
      " [-1.19438]\n",
      " [-0.65046]\n",
      " [-0.28001]\n",
      " [ 1.93258]\n",
      " [ 1.2262 ]\n",
      " [ 0.74727]\n",
      " [ 3.32853]\n",
      " [ 2.87457]\n",
      " [-1.48662]\n",
      " [ 0.37629]\n",
      " [ 1.43918]\n",
      " [ 0.24183]\n",
      " [-2.7914 ]\n",
      " [ 1.08176]\n",
      " [ 2.81555]\n",
      " [ 0.54924]\n",
      " [ 2.36449]\n",
      " [-1.01925]]\n",
      "[  6.66854   3.86398   5.16161   8.43823   5.57201 -11.1327   -5.31226\n",
      "  -4.63725   3.8065   -6.06084   7.22328   2.38887  -7.13415   2.00412\n",
      "   4.29794  -5.86553  -5.20711  -3.52863 -10.16202   5.31123]\n"
     ]
    }
   ],
   "source": [
    "train_data = pd.read_csv(\"data.csv\")\n",
    "print(train_data[\"Var_X\"], end='\\n\\n')\n",
    "X = train_data[\"Var_X\"].values.reshape(-1,1)\n",
    "print(X)\n",
    "y = train_data[\"Var_Y\"].values\n",
    "print(y)"
   ]
  },
  {
   "cell_type": "markdown",
   "metadata": {},
   "source": [
    "### Create polynomial features\n",
    "\n",
    "    Create an instance of sklearn's PolynomialFeatures class and assign it to the variable poly_feat. Pay attention to how to set the degree of features, since that will be how the exercise is evaluated.\n",
    "    Create the polynomial features by using the PolynomialFeatures object's .fit_transform() method. The \"fit\" side of the method considers how many features are needed in the output, and the \"transform\" side applies those considerations to the data provided to the method as an argument. Assign the new feature matrix to the X_poly variable.\n"
   ]
  },
  {
   "cell_type": "code",
   "execution_count": 10,
   "metadata": {},
   "outputs": [
    {
     "name": "stdout",
     "output_type": "stream",
     "text": [
      "[[ 1.00000000e+00 -3.35320000e-01  1.12439502e-01 -3.77032139e-02\n",
      "   1.26426417e-02]\n",
      " [ 1.00000000e+00  2.16000000e-02  4.66560000e-04  1.00776960e-05\n",
      "   2.17678234e-07]\n",
      " [ 1.00000000e+00 -1.19438000e+00  1.42654358e+00 -1.70383513e+00\n",
      "   2.03502660e+00]\n",
      " [ 1.00000000e+00 -6.50460000e-01  4.23098212e-01 -2.75208463e-01\n",
      "   1.79012097e-01]\n",
      " [ 1.00000000e+00 -2.80010000e-01  7.84056001e-02 -2.19543521e-02\n",
      "   6.14743813e-03]\n",
      " [ 1.00000000e+00  1.93258000e+00  3.73486546e+00  7.21792628e+00\n",
      "   1.39492200e+01]\n",
      " [ 1.00000000e+00  1.22620000e+00  1.50356644e+00  1.84367317e+00\n",
      "   2.26071204e+00]\n",
      " [ 1.00000000e+00  7.47270000e-01  5.58412453e-01  4.17284874e-01\n",
      "   3.11824468e-01]\n",
      " [ 1.00000000e+00  3.32853000e+00  1.10791120e+01  3.68771565e+01\n",
      "   1.22746722e+02]\n",
      " [ 1.00000000e+00  2.87457000e+00  8.26315268e+00  2.37530108e+01\n",
      "   6.82796923e+01]\n",
      " [ 1.00000000e+00 -1.48662000e+00  2.21003902e+00 -3.28548821e+00\n",
      "   4.88427249e+00]\n",
      " [ 1.00000000e+00  3.76290000e-01  1.41594164e-01  5.32804680e-02\n",
      "   2.00489073e-02]\n",
      " [ 1.00000000e+00  1.43918000e+00  2.07123907e+00  2.98088585e+00\n",
      "   4.29003130e+00]\n",
      " [ 1.00000000e+00  2.41830000e-01  5.84817489e-02  1.41426413e-02\n",
      "   3.42011495e-03]\n",
      " [ 1.00000000e+00 -2.79140000e+00  7.79191396e+00 -2.17503486e+01\n",
      "   6.07139232e+01]\n",
      " [ 1.00000000e+00  1.08176000e+00  1.17020470e+00  1.26588063e+00\n",
      "   1.36937903e+00]\n",
      " [ 1.00000000e+00  2.81555000e+00  7.92732180e+00  2.23197709e+01\n",
      "   6.28424310e+01]\n",
      " [ 1.00000000e+00  5.49240000e-01  3.01664578e-01  1.65686253e-01\n",
      "   9.10015174e-02]\n",
      " [ 1.00000000e+00  2.36449000e+00  5.59081296e+00  1.32194213e+01\n",
      "   3.12571896e+01]\n",
      " [ 1.00000000e+00 -1.01925000e+00  1.03887056e+00 -1.05886882e+00\n",
      "   1.07925205e+00]]\n"
     ]
    }
   ],
   "source": [
    "poly_feat = PolynomialFeatures(degree = 4)\n",
    "X_poly = poly_feat.fit_transform(X)\n",
    "print(X_poly)"
   ]
  },
  {
   "cell_type": "markdown",
   "metadata": {},
   "source": [
    "### Build a polynomial regression model\n",
    "\n",
    "    Create a polynomial regression model by combining sklearn's LinearRegression class with the polynomial features. Assign the fit model to poly_model.\n"
   ]
  },
  {
   "cell_type": "code",
   "execution_count": 11,
   "metadata": {},
   "outputs": [],
   "source": [
    "poly_model = LinearRegression()\n",
    "poly_model = poly_model.fit(X_poly,y)"
   ]
  }
 ],
 "metadata": {
  "kernelspec": {
   "display_name": "Python [conda root]",
   "language": "python",
   "name": "conda-root-py"
  },
  "language_info": {
   "codemirror_mode": {
    "name": "ipython",
    "version": 3
   },
   "file_extension": ".py",
   "mimetype": "text/x-python",
   "name": "python",
   "nbconvert_exporter": "python",
   "pygments_lexer": "ipython3",
   "version": "3.6.6"
  }
 },
 "nbformat": 4,
 "nbformat_minor": 2
}
